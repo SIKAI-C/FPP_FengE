{
 "cells": [
  {
   "cell_type": "code",
   "execution_count": 4,
   "metadata": {},
   "outputs": [],
   "source": [
    "from a1_generate_instance import generateInstance\n",
    "import numpy as np\n",
    "\n",
    "a = generateInstance(days=3, size=20, cars=3, holding_cost=\"low\")"
   ]
  },
  {
   "cell_type": "code",
   "execution_count": null,
   "metadata": {},
   "outputs": [],
   "source": [
    "from gurobipy import Model, GRB, quicksum\n",
    "def rFPPSolution(T, N, N_p, E, E_p, K, U, Q, r, I_0):\n",
    "    '''\n",
    "    T - time horizon\n",
    "    N_p - set of customer\n",
    "    N - set of customer + depot\n",
    "    E_p - set of edges corresponding to customer\n",
    "    E - set of edges corresponding to customer + depot\n",
    "    K - set of vehicles\n",
    "    U - capacity of inventory\n",
    "    Q - capacity of vehicle\n",
    "    r - daily consumption rate\n",
    "    I_0 - initial inventory level\n",
    "    '''\n",
    "    \n",
    "    m = Model(\"rFPP\")\n",
    "    I = m.addVars(N_p, T, vtype=GRB.CONTINUOUS, name=\"inventory_level\")\n",
    "    z = m.addVars(N, K, T, vtype=GRB.BINARY, name=\"is_visited_node\")\n",
    "    q = m.addVars(N_p, K, T, vtype=GRB.CONTINUOUS, name=\"quantity_delivered\")\n",
    "    y = m.addVars(E, K, T, vtype=GRB.BINARY, name=\"is_visited_edge\")\n",
    "    x = m.addVars(E, vtype=GRB.BINARY, name=\"masked_edge\")\n",
    "\n",
    "    # constraint about inventory level\n",
    "    m.addConstrs((I[i,1] == I_0[i] + quicksum(q[i,k,1] for k in K) - r[i][1] for i in N_p), name=\"inventory_level_1\")\n",
    "    m.addConstrs((I[i,t] == I[i,t-1] + quicksum(q[i,k,t] for k in K) - r[i][t] for i in N_p for t in range(2,len(T)+1)), name=\"inventory_level_2\")\n",
    "    m.addConstrs((I[i,t] >= 0 for i in N_p for t in range(1,len(T)+1)), name=\"inventory_level_3\")\n",
    "    m.addConstrs((I[i,t] <= U[i] for i in N_p for t in range(1,len(T)+1)), name=\"inventory_level_4\")\n",
    "\n",
    "    # constraint about quantity delivered\n",
    "    m.addConstrs((quicksum(q[i,k,t] for i in N_p) <= Q*z[0,k,t] for k in K for t in T), name=\"quantity_delivered_1\")\n",
    "    m.addConstrs((quicksum(q[i,k,1] for k in K) <= U[i]-I_0[i] for i in N_p), name=\"quantity_delivered_2\")\n",
    "    m.addConstrs((quicksum(q[i,k,t] for k in K) <= U[i]-I[i, t-1] for i in N_p for t in range(2,len(T)+1)), name=\"quantity_delivered_2\")\n",
    "\n",
    "    # constraint about routing\n",
    "    m.addConstrs((quicksum(z[i,k,t] for k in K) <= 1 for i in N_p for t in T), name=\"routing_1\")\n",
    "    m.addConstrs((quicksum(y[i,j,k,t] + y[j,i,k,t] for i,j in E) == 2*z[i,k,t] for k in K for t in T for i in N_p), name=\"routing_2\")\n",
    "\n",
    "    # constraint about masking\n",
    "    \n",
    "\n",
    "\n",
    "\n",
    "\n",
    "    \n",
    "\n"
   ]
  }
 ],
 "metadata": {
  "kernelspec": {
   "display_name": "Python 3",
   "language": "python",
   "name": "python3"
  },
  "language_info": {
   "codemirror_mode": {
    "name": "ipython",
    "version": 3
   },
   "file_extension": ".py",
   "mimetype": "text/x-python",
   "name": "python",
   "nbconvert_exporter": "python",
   "pygments_lexer": "ipython3",
   "version": "3.8.7"
  },
  "orig_nbformat": 4
 },
 "nbformat": 4,
 "nbformat_minor": 2
}
